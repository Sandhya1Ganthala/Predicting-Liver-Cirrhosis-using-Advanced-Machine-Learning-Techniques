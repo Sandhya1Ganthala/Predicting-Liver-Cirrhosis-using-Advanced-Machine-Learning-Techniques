import pandas as pd
import seaborn as sns
import matplotlib.pyplot as plt

df = pd.read_csv('../data/raw/liver_data.csv')
sns.countplot(x='Dataset', data=df)
plt.title('Class Distribution')
plt.show()
